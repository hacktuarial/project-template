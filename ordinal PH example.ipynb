{
 "cells": [
  {
   "cell_type": "code",
   "execution_count": 1,
   "metadata": {},
   "outputs": [],
   "source": [
    "import pandas as pd\n",
    "import numpy as np\n",
    "from RidgeOrdinalRegressor import RidgeOrdinalRegressor\n",
    "from sklearn.preprocessing import OneHotEncoder\n",
    "from scipy import sparse"
   ]
  },
  {
   "cell_type": "code",
   "execution_count": 2,
   "metadata": {},
   "outputs": [
    {
     "data": {
      "text/plain": [
       "(72, 1681)"
      ]
     },
     "execution_count": 2,
     "metadata": {},
     "output_type": "execute_result"
    }
   ],
   "source": [
    "# this is from the examples in R's ordinal package\n",
    "# they fit a weighted model; just repeat observations for simplicity for now\n",
    "df = pd.read_csv('housing.csv')\n",
    "n_obs = df['Freq'].sum()\n",
    "df.shape[0],n_obs"
   ]
  },
  {
   "cell_type": "code",
   "execution_count": 3,
   "metadata": {},
   "outputs": [
    {
     "data": {
      "text/html": [
       "<div>\n",
       "<style scoped>\n",
       "    .dataframe tbody tr th:only-of-type {\n",
       "        vertical-align: middle;\n",
       "    }\n",
       "\n",
       "    .dataframe tbody tr th {\n",
       "        vertical-align: top;\n",
       "    }\n",
       "\n",
       "    .dataframe thead th {\n",
       "        text-align: right;\n",
       "    }\n",
       "</style>\n",
       "<table border=\"1\" class=\"dataframe\">\n",
       "  <thead>\n",
       "    <tr style=\"text-align: right;\">\n",
       "      <th></th>\n",
       "      <th>Sat</th>\n",
       "      <th>Infl</th>\n",
       "      <th>Type</th>\n",
       "      <th>Cont</th>\n",
       "    </tr>\n",
       "  </thead>\n",
       "  <tbody>\n",
       "    <tr>\n",
       "      <th>12</th>\n",
       "      <td>Low</td>\n",
       "      <td>Medium</td>\n",
       "      <td>Apartment</td>\n",
       "      <td>Low</td>\n",
       "    </tr>\n",
       "    <tr>\n",
       "      <th>37</th>\n",
       "      <td>Medium</td>\n",
       "      <td>Low</td>\n",
       "      <td>Tower</td>\n",
       "      <td>High</td>\n",
       "    </tr>\n",
       "    <tr>\n",
       "      <th>46</th>\n",
       "      <td>Medium</td>\n",
       "      <td>Low</td>\n",
       "      <td>Apartment</td>\n",
       "      <td>High</td>\n",
       "    </tr>\n",
       "  </tbody>\n",
       "</table>\n",
       "</div>"
      ],
      "text/plain": [
       "       Sat    Infl       Type  Cont\n",
       "12     Low  Medium  Apartment   Low\n",
       "37  Medium     Low      Tower  High\n",
       "46  Medium     Low  Apartment  High"
      ]
     },
     "execution_count": 3,
     "metadata": {},
     "output_type": "execute_result"
    }
   ],
   "source": [
    "df = df.loc[np.repeat(df.index, df['Freq']), :].drop('Freq', axis='columns')\n",
    "df.sample(n=3)"
   ]
  },
  {
   "cell_type": "markdown",
   "metadata": {},
   "source": [
    "`fm1 <- clm(Sat ~ Infl + Type + Cont, weights = Freq, data = housing)`"
   ]
  },
  {
   "cell_type": "code",
   "execution_count": 4,
   "metadata": {},
   "outputs": [
    {
     "data": {
      "text/plain": [
       "(1681, 3)"
      ]
     },
     "execution_count": 4,
     "metadata": {},
     "output_type": "execute_result"
    }
   ],
   "source": [
    "y = pd.get_dummies(df['Sat'])[['Low', 'Medium', 'High']].values\n",
    "y.shape"
   ]
  },
  {
   "cell_type": "code",
   "execution_count": 5,
   "metadata": {},
   "outputs": [],
   "source": [
    "# Infl has 3 possible values, Type: 4, Cont: 2\n",
    "# so there should be 3 + 4 + 2 -3 = 6 columns\n",
    "X = pd.get_dummies(df[['Infl', 'Type', 'Cont']], drop_first=True)\n",
    "X = sparse.csr_matrix(X.values)\n",
    "assert X.shape[1] == 6\n",
    "assert X.shape[0] == n_obs"
   ]
  },
  {
   "cell_type": "code",
   "execution_count": 6,
   "metadata": {},
   "outputs": [
    {
     "name": "stdout",
     "output_type": "stream",
     "text": [
      "      fun: 1739.5746495294743\n",
      " hess_inv: <8x8 LbfgsInvHessProduct with dtype=float64>\n",
      "      jac: array([ 2.19866894e-06,  4.04623847e-07, -4.53114495e-07,  2.20956383e-06,\n",
      "        1.74848037e-06,  2.47647002e-07,  3.46821878e-08, -4.38696617e-07])\n",
      "  message: b'CONVERGENCE: REL_REDUCTION_OF_F_<=_FACTR*EPSMCH'\n",
      "     nfev: 35\n",
      "      nit: 27\n",
      "   status: 0\n",
      "  success: True\n",
      "        x: array([-1.57288824, -0.38604484,  1.2888191 ,  0.72242537, -0.20616361,\n",
      "        0.51866466, -0.57235   ,  0.36028399])\n"
     ]
    },
    {
     "data": {
      "text/plain": [
       "(array([-1.57288824, -0.38604484]),\n",
       " array([ 1.2888191 ,  0.72242537, -0.20616361,  0.51866466, -0.57235   ,\n",
       "         0.36028399]))"
      ]
     },
     "execution_count": 6,
     "metadata": {},
     "output_type": "execute_result"
    }
   ],
   "source": [
    "rr = RidgeOrdinalRegressor(alpha=0, tol=1e-30)\n",
    "rr.fit(X, y)\n",
    "rr.intercept_, rr.coef_"
   ]
  },
  {
   "cell_type": "code",
   "execution_count": 7,
   "metadata": {},
   "outputs": [
    {
     "ename": "AssertionError",
     "evalue": "",
     "output_type": "error",
     "traceback": [
      "\u001b[0;31m---------------------------------------------------------------------------\u001b[0m",
      "\u001b[0;31mAssertionError\u001b[0m                            Traceback (most recent call last)",
      "\u001b[0;32m<ipython-input-7-a7f1695e77c0>\u001b[0m in \u001b[0;36m<module>\u001b[0;34m()\u001b[0m\n\u001b[1;32m      1\u001b[0m \u001b[0mR_intercepts\u001b[0m \u001b[0;34m=\u001b[0m \u001b[0mnp\u001b[0m\u001b[0;34m.\u001b[0m\u001b[0marray\u001b[0m\u001b[0;34m(\u001b[0m\u001b[0;34m[\u001b[0m\u001b[0;34m-\u001b[0m\u001b[0;36m0.4961351\u001b[0m\u001b[0;34m,\u001b[0m \u001b[0;36m0.6907083\u001b[0m\u001b[0;34m]\u001b[0m\u001b[0;34m)\u001b[0m\u001b[0;34m\u001b[0m\u001b[0m\n\u001b[0;32m----> 2\u001b[0;31m \u001b[0;32massert\u001b[0m \u001b[0mnp\u001b[0m\u001b[0;34m.\u001b[0m\u001b[0mallclose\u001b[0m\u001b[0;34m(\u001b[0m\u001b[0mrr\u001b[0m\u001b[0;34m.\u001b[0m\u001b[0mintercept_\u001b[0m\u001b[0;34m,\u001b[0m \u001b[0mR_intercepts\u001b[0m\u001b[0;34m)\u001b[0m\u001b[0;34m\u001b[0m\u001b[0m\n\u001b[0m",
      "\u001b[0;31mAssertionError\u001b[0m: "
     ]
    }
   ],
   "source": [
    "R_intercepts = np.array([-0.4961351, 0.6907083])\n",
    "assert np.allclose(rr.intercept_, R_intercepts)"
   ]
  },
  {
   "cell_type": "code",
   "execution_count": 8,
   "metadata": {},
   "outputs": [
    {
     "ename": "AssertionError",
     "evalue": "",
     "output_type": "error",
     "traceback": [
      "\u001b[0;31m---------------------------------------------------------------------------\u001b[0m",
      "\u001b[0;31mAssertionError\u001b[0m                            Traceback (most recent call last)",
      "\u001b[0;32m<ipython-input-8-4b04c930fdc7>\u001b[0m in \u001b[0;36m<module>\u001b[0;34m()\u001b[0m\n\u001b[1;32m      1\u001b[0m R_coefs = np.array([0.5663937, 1.2888191, -0.5723500,\n\u001b[1;32m      2\u001b[0m    -0.3661864,    -1.0910147,     0.3602840])\n\u001b[0;32m----> 3\u001b[0;31m \u001b[0;32massert\u001b[0m \u001b[0mnp\u001b[0m\u001b[0;34m.\u001b[0m\u001b[0mallclose\u001b[0m\u001b[0;34m(\u001b[0m\u001b[0mrr\u001b[0m\u001b[0;34m.\u001b[0m\u001b[0mcoef_\u001b[0m\u001b[0;34m,\u001b[0m \u001b[0mR_coefs\u001b[0m\u001b[0;34m)\u001b[0m\u001b[0;34m\u001b[0m\u001b[0m\n\u001b[0m",
      "\u001b[0;31mAssertionError\u001b[0m: "
     ]
    }
   ],
   "source": [
    "R_coefs = np.array([0.5663937, 1.2888191, -0.5723500,\n",
    "   -0.3661864,    -1.0910147,     0.3602840])\n",
    "assert np.allclose(rr.coef_, R_coefs)"
   ]
  },
  {
   "cell_type": "code",
   "execution_count": 9,
   "metadata": {},
   "outputs": [],
   "source": [
    "# from https://gist.github.com/dsaxton/92baf15b74c859e714a83f09029bf5b4\n",
    "def negloglik(X, y, params):\n",
    "    \"\"\"\n",
    "    First elements of params are eta terms, remaining \n",
    "    are beta coefficients.\n",
    "    \"\"\"\n",
    "    alpha = params[:(y.shape[1]-1)]\n",
    "    beta = params[(y.shape[1]-1):]\n",
    "    #alpha = np.append(eta[0], np.exp(eta[1:])).cumsum()\n",
    "    \n",
    "    s = np.dot(X, beta).reshape(-1, 1)\n",
    "    dfunc = 1 / (np.exp(-(\n",
    "        np.repeat(s, len(alpha), axis=1) + alpha)) + 1)\n",
    "    dfunc = np.append(np.zeros(dfunc.shape[0])[:, np.newaxis], \n",
    "                      np.append(dfunc, \n",
    "                                np.ones(dfunc.shape[0])[:, np.newaxis], \n",
    "                                axis=1), \n",
    "                      axis=1)\n",
    "    \n",
    "    mass = np.diff(dfunc, axis=1)    \n",
    "    return - np.sum(np.log(np.sum(np.multiply(mass, y), axis=1)))"
   ]
  },
  {
   "cell_type": "code",
   "execution_count": 10,
   "metadata": {},
   "outputs": [
    {
     "data": {
      "text/plain": [
       "1739.5746495294743"
      ]
     },
     "execution_count": 10,
     "metadata": {},
     "output_type": "execute_result"
    }
   ],
   "source": [
    "negloglik(X=X.todense(), y=y, params=np.concatenate([rr.intercept_, rr.coef_]))"
   ]
  },
  {
   "cell_type": "code",
   "execution_count": 13,
   "metadata": {},
   "outputs": [
    {
     "data": {
      "text/plain": [
       "array([-1.57288834, -0.38604494,  1.28881924,  0.72242547, -0.20616369,\n",
       "        0.51866467, -0.57235   ,  0.360284  ])"
      ]
     },
     "execution_count": 13,
     "metadata": {},
     "output_type": "execute_result"
    }
   ],
   "source": [
    "from scipy.optimize import minimize\n",
    "Xdense = X.todense()\n",
    "\n",
    "def nll(params):\n",
    "    return negloglik(Xdense, y, params)\n",
    "\n",
    "res = minimize(fun=nll, x0=np.random.randn(X.shape[1] + y.shape[1] - 1), tol=1e-6)\n",
    "res['x']"
   ]
  },
  {
   "cell_type": "code",
   "execution_count": 14,
   "metadata": {},
   "outputs": [],
   "source": [
    "assert np.allclose(np.concatenate([rr.intercept_, rr.coef_]), res['x'])"
   ]
  },
  {
   "cell_type": "code",
   "execution_count": null,
   "metadata": {},
   "outputs": [],
   "source": []
  }
 ],
 "metadata": {
  "kernelspec": {
   "display_name": "Python (rtr)",
   "language": "python",
   "name": "rtr"
  },
  "language_info": {
   "codemirror_mode": {
    "name": "ipython",
    "version": 3
   },
   "file_extension": ".py",
   "mimetype": "text/x-python",
   "name": "python",
   "nbconvert_exporter": "python",
   "pygments_lexer": "ipython3",
   "version": "3.6.6"
  }
 },
 "nbformat": 4,
 "nbformat_minor": 2
}
